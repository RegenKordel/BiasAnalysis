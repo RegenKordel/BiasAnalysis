{
 "cells": [
  {
   "cell_type": "code",
   "execution_count": 4,
   "id": "danish-twist",
   "metadata": {},
   "outputs": [],
   "source": [
    "#Source: https://towardsdatascience.com/how-to-solve-analogies-with-word2vec-6ebaf2354009\n",
    "import pandas as pd\n",
    "import numpy as np\n",
    "import os\n",
    "\n",
    "import gensim\n",
    "from gensim.models import KeyedVectors\n",
    "\n",
    "from gensim.models import Word2Vec\n",
    "from gensim.scripts.glove2word2vec import glove2word2vec\n",
    "from gensim.test.utils import datapath, get_tmpfile"
   ]
  },
  {
   "cell_type": "code",
   "execution_count": 8,
   "id": "raising-knight",
   "metadata": {},
   "outputs": [],
   "source": [
    "path_glove_wiki = os.path.abspath('data/Wikipedia300.txt')\n",
    "path_w2v_wiki = os.path.abspath('data/Wikipedia300_w2v.txt')\n",
    "\n",
    "\n",
    "glove_file = datapath(path_glove_wiki)\n",
    "tmp_file = get_tmpfile(path_w2v_wiki)\n",
    "\n",
    "_ = glove2word2vec(glove_file, tmp_file)\n",
    "\n",
    "\n",
    "path = os.path.abspath('data/Wikipedia300_w2v.txt')\n",
    "\n",
    "model_wiki = KeyedVectors.load_word2vec_format(path, binary=False)"
   ]
  },
  {
   "cell_type": "code",
   "execution_count": 30,
   "id": "happy-plain",
   "metadata": {},
   "outputs": [],
   "source": [
    "path_glove_cc = os.path.abspath('data/CommonCrawl300.txt')\n",
    "path_w2v_cc = os.path.abspath('data/CommonCrawl300_w2v.txt')\n",
    "\n",
    "\n",
    "glove_file = datapath(path_glove_cc)\n",
    "tmp_file = get_tmpfile(path_w2v_cc)\n",
    "\n",
    "_ = glove2word2vec(glove_file, tmp_file)\n",
    "\n",
    "\n",
    "path = os.path.abspath('data/CommonCrawl300_w2v.txt')\n",
    "\n",
    "model_cc = KeyedVectors.load_word2vec_format(path, binary=False)"
   ]
  },
  {
   "cell_type": "code",
   "execution_count": 31,
   "id": "aerial-batch",
   "metadata": {},
   "outputs": [],
   "source": [
    "path_glove_tw = os.path.abspath('data/Twitter100.txt')\n",
    "path_w2v_tw = os.path.abspath('data/Twitter100_w2v.txt')\n",
    "\n",
    "\n",
    "glove_file = datapath(path_glove_tw)\n",
    "tmp_file = get_tmpfile(path_w2v_tw)\n",
    "\n",
    "_ = glove2word2vec(glove_file, tmp_file)\n",
    "\n",
    "\n",
    "path = os.path.abspath('data/Twitter100_w2v.txt')\n",
    "\n",
    "model_tw = KeyedVectors.load_word2vec_format(path, binary=False)"
   ]
  },
  {
   "cell_type": "code",
   "execution_count": 61,
   "id": "maritime-celebrity",
   "metadata": {},
   "outputs": [],
   "source": [
    "def analogy(model,worda, wordb, wordc):\n",
    "    result = model.most_similar(negative=[worda], \n",
    "                                positive=[wordb, wordc])\n",
    "    return result[0][0]\n",
    "    \n",
    "def compare_models_analogy(worda, wordb, wordc):\n",
    "    print(\"Wikipedia: \" + analogy(model_wiki, worda, wordb, wordc))\n",
    "    print(\"CommonCrawl: \" + analogy(model_cc, worda, wordb, wordc))\n",
    "    print(\"Twitter: \" + analogy(model_tw, worda, wordb, wordc))\n",
    "    \n",
    "def compare_models_similarity(word):\n",
    "    print(\"Wikipedia:\") \n",
    "    wiki = model_wiki.most_similar(positive=word)\n",
    "    for i in wiki:\n",
    "        print(i[0])\n",
    "    print()\n",
    "    print(\"CommonCrawl:\") \n",
    "    cc = model_cc.most_similar(positive=word)\n",
    "    for i in cc:\n",
    "        print(i[0])\n",
    "    print()\n",
    "    print(\"Twitter:\") \n",
    "    tw = model_tw.most_similar(positive=word)\n",
    "    for i in tw:\n",
    "        print(i[0])\n",
    "    print()\n",
    "    \n",
    "def compare_models_similarity_pairs(worda, wordb):\n",
    "    print(\"Wikipedia:\") \n",
    "    wikia = pd.DataFrame (model_wiki.most_similar(positive=worda),columns=[[worda, 'cosine_sim_a']])\n",
    "    wikib = pd.DataFrame (model_wiki.most_similar(positive=wordb),columns=[[wordb, 'cosine_sim_b']])\n",
    "    wiki = pd.concat([wikia, wikib], axis=1, join='inner') \n",
    "    print(wiki)\n",
    "    print(\"CommonCrawl:\") \n",
    "    cca = pd.DataFrame (model_cc.most_similar(positive=worda),columns=[[worda, 'cosine_sim_a']])\n",
    "    ccb = pd.DataFrame (model_cc.most_similar(positive=wordb),columns=[[wordb, 'cosine_sim_b']])\n",
    "    cc = pd.concat([cca, ccb], axis=1, join='inner') \n",
    "    print(cc)\n",
    "    print(\"Twitter:\") \n",
    "    twa = pd.DataFrame (model_tw.most_similar(positive=worda),columns=[[worda, 'cosine_sim_a']])\n",
    "    twb = pd.DataFrame (model_tw.most_similar(positive=wordb),columns=[[wordb, 'cosine_sim_b']])\n",
    "    tw = pd.concat([twa, twb], axis=1, join='inner') \n",
    "    print(tw)"
   ]
  },
  {
   "cell_type": "code",
   "execution_count": 108,
   "id": "human-uncertainty",
   "metadata": {},
   "outputs": [
    {
     "data": {
      "text/plain": [
       "[('men', 0.7656920552253723),\n",
       " ('girls', 0.6347202062606812),\n",
       " ('female', 0.6183490753173828),\n",
       " ('woman', 0.604761004447937),\n",
       " ('male', 0.549830436706543),\n",
       " ('mothers', 0.5313720703125),\n",
       " ('athletes', 0.5268536806106567),\n",
       " ('she', 0.5137521028518677),\n",
       " ('young', 0.5133211016654968),\n",
       " ('children', 0.5079673528671265)]"
      ]
     },
     "execution_count": 108,
     "metadata": {},
     "output_type": "execute_result"
    }
   ],
   "source": [
    "model_wiki.most_similar(positive=\"women\")"
   ]
  },
  {
   "cell_type": "code",
   "execution_count": 109,
   "id": "serial-store",
   "metadata": {},
   "outputs": [
    {
     "name": "stdout",
     "output_type": "stream",
     "text": [
      "Wikipedia:\n",
      "men\n",
      "girls\n",
      "female\n",
      "woman\n",
      "male\n",
      "mothers\n",
      "athletes\n",
      "she\n",
      "young\n",
      "children\n",
      "\n",
      "CommonCrawl:\n",
      "men\n",
      "ladies\n",
      "woman\n",
      "girls\n",
      "Women\n",
      "females\n",
      "female\n",
      "womens\n",
      "mothers\n",
      "males\n",
      "\n",
      "Twitter:\n",
      "woman\n",
      "girls\n",
      "men\n",
      "ladies\n",
      "womens\n",
      "female\n",
      "females\n",
      "other\n",
      "they\n",
      "people\n",
      "\n"
     ]
    }
   ],
   "source": [
    "compare_models_similarity(\"women\")"
   ]
  },
  {
   "cell_type": "code",
   "execution_count": 94,
   "id": "ongoing-luther",
   "metadata": {},
   "outputs": [
    {
     "name": "stdout",
     "output_type": "stream",
     "text": [
      "Wikipedia:\n",
      "       girl cosine_sim_a       boy cosine_sim_b\n",
      "0       boy     0.827289      girl     0.827289\n",
      "1     woman     0.729642      boys     0.681233\n",
      "2     girls     0.722729       kid     0.655293\n",
      "3  teenager     0.650977       man     0.620828\n",
      "4   teenage     0.649272   teenage     0.597385\n",
      "5    mother     0.641797     child     0.595288\n",
      "6      boys     0.628358  teenager     0.589650\n",
      "7     child     0.622930    father     0.580069\n",
      "8      teen     0.612524     girls     0.574547\n",
      "9  daughter     0.605021       son     0.572696\n",
      "CommonCrawl:\n",
      "      girl cosine_sim_a       boy cosine_sim_b\n",
      "0    girls     0.824546      girl     0.814832\n",
      "1      boy     0.814832       kid     0.780285\n",
      "2    woman     0.770079      boys     0.770499\n",
      "3     lady     0.755798       man     0.704570\n",
      "4     teen     0.740762  teenager     0.691475\n",
      "5     sexy     0.724625     young     0.684768\n",
      "6   blonde     0.695936       dad     0.679083\n",
      "7  teenage     0.691481     daddy     0.678516\n",
      "8    chick     0.688600       lad     0.675714\n",
      "9     babe     0.688469   brother     0.665973\n",
      "Twitter:\n",
      "        girl cosine_sim_a      boy cosine_sim_b\n",
      "0        boy     0.868402     girl     0.868402\n",
      "1      girls     0.855909      kid     0.835159\n",
      "2        she     0.853111     dude     0.823087\n",
      "3     friend     0.823827      guy     0.808023\n",
      "4        guy     0.822209     baby     0.803494\n",
      "5      chick     0.811896      lil     0.801286\n",
      "6       like     0.810003  brother     0.787051\n",
      "7     sister     0.809487    young     0.781294\n",
      "8  boyfriend     0.801070      old     0.778369\n",
      "9      bitch     0.799519    nigga     0.777073\n"
     ]
    }
   ],
   "source": [
    "compare_models_similarity_pairs(\"girl\", \"boy\")"
   ]
  },
  {
   "cell_type": "code",
   "execution_count": 37,
   "id": "organizational-footwear",
   "metadata": {},
   "outputs": [
    {
     "name": "stdout",
     "output_type": "stream",
     "text": [
      "Wikipedia: physician\n",
      "CommonCrawl: nurse\n",
      "Twitter: doctors\n"
     ]
    }
   ],
   "source": [
    "compare_models_analogy(\"man\", \"doctor\", \"woman\")"
   ]
  },
  {
   "cell_type": "code",
   "execution_count": 38,
   "id": "civic-hello",
   "metadata": {},
   "outputs": [
    {
     "name": "stdout",
     "output_type": "stream",
     "text": [
      "Wikipedia: programmers\n",
      "CommonCrawl: programmers\n",
      "Twitter: developer\n"
     ]
    }
   ],
   "source": [
    "compare_models_analogy(\"man\", \"programmer\", \"woman\")"
   ]
  },
  {
   "cell_type": "code",
   "execution_count": 39,
   "id": "severe-dylan",
   "metadata": {},
   "outputs": [
    {
     "name": "stdout",
     "output_type": "stream",
     "text": [
      "Wikipedia: researcher\n",
      "CommonCrawl: researcher\n",
      "Twitter: researcher\n"
     ]
    }
   ],
   "source": [
    "compare_models_analogy(\"man\", \"scientist\", \"woman\")"
   ]
  },
  {
   "cell_type": "code",
   "execution_count": 41,
   "id": "animated-caribbean",
   "metadata": {},
   "outputs": [
    {
     "name": "stdout",
     "output_type": "stream",
     "text": [
      "Wikipedia: technician\n",
      "CommonCrawl: technician\n",
      "Twitter: technician\n"
     ]
    }
   ],
   "source": [
    "compare_models_analogy(\"man\", \"engineer\", \"woman\")"
   ]
  },
  {
   "cell_type": "code",
   "execution_count": 98,
   "id": "extended-nursery",
   "metadata": {},
   "outputs": [
    {
     "name": "stdout",
     "output_type": "stream",
     "text": [
      "Wikipedia: intelligent\n",
      "CommonCrawl: intelligent\n",
      "Twitter: cool\n"
     ]
    }
   ],
   "source": [
    "compare_models_analogy(\"woman\", \"smart\", \"man\")"
   ]
  },
  {
   "cell_type": "code",
   "execution_count": 102,
   "id": "professional-lightweight",
   "metadata": {},
   "outputs": [
    {
     "name": "stdout",
     "output_type": "stream",
     "text": [
      "Wikipedia: transatlantic\n",
      "CommonCrawl: Trans\n",
      "Twitter: indonesian\n"
     ]
    }
   ],
   "source": [
    "compare_models_analogy(\"man\", \"trans\", \"woman\")"
   ]
  },
  {
   "cell_type": "code",
   "execution_count": 44,
   "id": "available-auckland",
   "metadata": {},
   "outputs": [
    {
     "name": "stdout",
     "output_type": "stream",
     "text": [
      "Wikipedia: intelligent\n",
      "CommonCrawl: intelligent\n",
      "Twitter: cool\n"
     ]
    }
   ],
   "source": [
    "compare_models_analogy(\"woman\", \"smart\", \"man\")"
   ]
  }
 ],
 "metadata": {
  "kernelspec": {
   "display_name": "Python 3",
   "language": "python",
   "name": "python3"
  },
  "language_info": {
   "codemirror_mode": {
    "name": "ipython",
    "version": 3
   },
   "file_extension": ".py",
   "mimetype": "text/x-python",
   "name": "python",
   "nbconvert_exporter": "python",
   "pygments_lexer": "ipython3",
   "version": "3.6.13"
  }
 },
 "nbformat": 4,
 "nbformat_minor": 5
}
