{
 "cells": [
  {
   "cell_type": "code",
   "execution_count": 4,
   "id": "reflected-flower",
   "metadata": {},
   "outputs": [],
   "source": [
    "#Source: https://towardsdatascience.com/how-to-solve-analogies-with-word2vec-6ebaf2354009\n",
    "import pandas as pd\n",
    "import numpy as np\n",
    "import os\n",
    "\n",
    "import gensim\n",
    "from gensim.models import KeyedVectors\n",
    "\n",
    "from gensim.models import Word2Vec\n",
    "from gensim.scripts.glove2word2vec import glove2word2vec\n",
    "from gensim.test.utils import datapath, get_tmpfile"
   ]
  },
  {
   "cell_type": "code",
   "execution_count": 8,
   "id": "hourly-quilt",
   "metadata": {},
   "outputs": [],
   "source": [
    "path_glove_wiki = os.path.abspath('data/Wikipedia300.txt')\n",
    "path_w2v_wiki = os.path.abspath('data/Wikipedia300_w2v.txt')\n",
    "\n",
    "\n",
    "glove_file = datapath(path_glove_wiki)\n",
    "tmp_file = get_tmpfile(path_w2v_wiki)\n",
    "\n",
    "_ = glove2word2vec(glove_file, tmp_file)\n",
    "\n",
    "\n",
    "path = os.path.abspath('data/Wikipedia300_w2v.txt')\n",
    "\n",
    "model_wiki = KeyedVectors.load_word2vec_format(path, binary=False)"
   ]
  },
  {
   "cell_type": "code",
   "execution_count": 30,
   "id": "positive-highlight",
   "metadata": {},
   "outputs": [],
   "source": [
    "path_glove_cc = os.path.abspath('data/CommonCrawl300.txt')\n",
    "path_w2v_cc = os.path.abspath('data/CommonCrawl300_w2v.txt')\n",
    "\n",
    "\n",
    "glove_file = datapath(path_glove_cc)\n",
    "tmp_file = get_tmpfile(path_w2v_cc)\n",
    "\n",
    "_ = glove2word2vec(glove_file, tmp_file)\n",
    "\n",
    "\n",
    "path = os.path.abspath('data/CommonCrawl300_w2v.txt')\n",
    "\n",
    "model_cc = KeyedVectors.load_word2vec_format(path, binary=False)"
   ]
  },
  {
   "cell_type": "code",
   "execution_count": 31,
   "id": "unexpected-intervention",
   "metadata": {},
   "outputs": [],
   "source": [
    "path_glove_tw = os.path.abspath('data/Twitter100.txt')\n",
    "path_w2v_tw = os.path.abspath('data/Twitter100_w2v.txt')\n",
    "\n",
    "\n",
    "glove_file = datapath(path_glove_tw)\n",
    "tmp_file = get_tmpfile(path_w2v_tw)\n",
    "\n",
    "_ = glove2word2vec(glove_file, tmp_file)\n",
    "\n",
    "\n",
    "path = os.path.abspath('data/Twitter100_w2v.txt')\n",
    "\n",
    "model_tw = KeyedVectors.load_word2vec_format(path, binary=False)"
   ]
  },
  {
   "cell_type": "code",
   "execution_count": 123,
   "id": "essential-demand",
   "metadata": {},
   "outputs": [],
   "source": [
    "def compare_models_analogy(worda, wordb, wordc):\n",
    "    print(\"Wikipedia:\")\n",
    "    wiki = pd.DataFrame (model_wiki.most_similar(negative=[worda],positive=[wordb, wordc]),columns=[[wordc, 'cosine_sim']])\n",
    "    print(wiki)\n",
    "    print(\"CommonCrawl:\")\n",
    "    cc = pd.DataFrame (model_cc.most_similar(negative=[worda],positive=[wordb, wordc]),columns=[[wordc, 'cosine_sim']])\n",
    "    print(cc)\n",
    "    print(\"Twitter:\")\n",
    "    tw = pd.DataFrame (model_tw.most_similar(negative=[worda],positive=[wordb, wordc]),columns=[[wordc, 'cosine_sim']])\n",
    "    print(tw)\n",
    "    \n",
    "def compare_models_similarity(word):\n",
    "    print(\"Wikipedia:\") \n",
    "    wiki = pd.DataFrame (model_wiki.most_similar(positive=word),columns=[[word, 'cosine_sim']])\n",
    "    print(wiki)\n",
    "    print(\"CommonCrawl:\") \n",
    "    cc = pd.DataFrame (model_cc.most_similar(positive=word),columns=[[word, 'cosine_sim']])\n",
    "    print(cc)\n",
    "    print(\"Twitter:\") \n",
    "    twitter = pd.DataFrame (model_tw.most_similar(positive=word),columns=[[word, 'cosine_sim']])\n",
    "    print(twitter)\n",
    "    \n",
    "def compare_models_similarity_pairs(worda, wordb):\n",
    "    print(\"Wikipedia:\") \n",
    "    wikia = pd.DataFrame (model_wiki.most_similar(positive=worda),columns=[[worda, 'cosine_sim_a']])\n",
    "    wikib = pd.DataFrame (model_wiki.most_similar(positive=wordb),columns=[[wordb, 'cosine_sim_b']])\n",
    "    wiki = pd.concat([wikia, wikib], axis=1, join='inner') \n",
    "    print(wiki)\n",
    "    print(\"CommonCrawl:\") \n",
    "    cca = pd.DataFrame (model_cc.most_similar(positive=worda),columns=[[worda, 'cosine_sim_a']])\n",
    "    ccb = pd.DataFrame (model_cc.most_similar(positive=wordb),columns=[[wordb, 'cosine_sim_b']])\n",
    "    cc = pd.concat([cca, ccb], axis=1, join='inner') \n",
    "    print(cc)\n",
    "    print(\"Twitter:\") \n",
    "    twa = pd.DataFrame (model_tw.most_similar(positive=worda),columns=[[worda, 'cosine_sim_a']])\n",
    "    twb = pd.DataFrame (model_tw.most_similar(positive=wordb),columns=[[wordb, 'cosine_sim_b']])\n",
    "    tw = pd.concat([twa, twb], axis=1, join='inner') \n",
    "    print(tw)"
   ]
  },
  {
   "cell_type": "code",
   "execution_count": 111,
   "id": "polish-tract",
   "metadata": {},
   "outputs": [
    {
     "data": {
      "text/plain": [
       "[('stronger', 0.6895867586135864),\n",
       " ('despite', 0.6242086291313171),\n",
       " ('weak', 0.6232478618621826),\n",
       " ('strongest', 0.622769832611084),\n",
       " ('robust', 0.6030492782592773),\n",
       " ('strength', 0.5954651236534119),\n",
       " ('consistent', 0.570941150188446),\n",
       " ('solid', 0.5683797001838684),\n",
       " ('support', 0.5610021352767944),\n",
       " ('very', 0.5595080852508545)]"
      ]
     },
     "execution_count": 111,
     "metadata": {},
     "output_type": "execute_result"
    }
   ],
   "source": [
    "model_wiki.most_similar(positive=\"strong\")"
   ]
  },
  {
   "cell_type": "code",
   "execution_count": 119,
   "id": "associate-horizon",
   "metadata": {},
   "outputs": [
    {
     "name": "stdout",
     "output_type": "stream",
     "text": [
      "Wikipedia:\n",
      "      women cosine_sim\n",
      "0       men   0.765692\n",
      "1     girls   0.634720\n",
      "2    female   0.618349\n",
      "3     woman   0.604761\n",
      "4      male   0.549830\n",
      "5   mothers   0.531372\n",
      "6  athletes   0.526854\n",
      "7       she   0.513752\n",
      "8     young   0.513321\n",
      "9  children   0.507967\n",
      "CommonCrawl:\n",
      "     women cosine_sim\n",
      "0      men   0.825095\n",
      "1   ladies   0.724850\n",
      "2    woman   0.717893\n",
      "3    girls   0.705516\n",
      "4    Women   0.690789\n",
      "5  females   0.678750\n",
      "6   female   0.655832\n",
      "7   womens   0.648444\n",
      "8  mothers   0.618875\n",
      "9    males   0.616936\n",
      "Twitter:\n",
      "     women cosine_sim\n",
      "0    woman   0.805092\n",
      "1    girls   0.770198\n",
      "2      men   0.747575\n",
      "3   ladies   0.747394\n",
      "4   womens   0.740094\n",
      "5   female   0.736097\n",
      "6  females   0.711881\n",
      "7    other   0.704463\n",
      "8     they   0.699757\n",
      "9   people   0.696706\n"
     ]
    }
   ],
   "source": [
    "compare_models_similarity(\"women\")"
   ]
  },
  {
   "cell_type": "code",
   "execution_count": 94,
   "id": "developed-peripheral",
   "metadata": {},
   "outputs": [
    {
     "name": "stdout",
     "output_type": "stream",
     "text": [
      "Wikipedia:\n",
      "       girl cosine_sim_a       boy cosine_sim_b\n",
      "0       boy     0.827289      girl     0.827289\n",
      "1     woman     0.729642      boys     0.681233\n",
      "2     girls     0.722729       kid     0.655293\n",
      "3  teenager     0.650977       man     0.620828\n",
      "4   teenage     0.649272   teenage     0.597385\n",
      "5    mother     0.641797     child     0.595288\n",
      "6      boys     0.628358  teenager     0.589650\n",
      "7     child     0.622930    father     0.580069\n",
      "8      teen     0.612524     girls     0.574547\n",
      "9  daughter     0.605021       son     0.572696\n",
      "CommonCrawl:\n",
      "      girl cosine_sim_a       boy cosine_sim_b\n",
      "0    girls     0.824546      girl     0.814832\n",
      "1      boy     0.814832       kid     0.780285\n",
      "2    woman     0.770079      boys     0.770499\n",
      "3     lady     0.755798       man     0.704570\n",
      "4     teen     0.740762  teenager     0.691475\n",
      "5     sexy     0.724625     young     0.684768\n",
      "6   blonde     0.695936       dad     0.679083\n",
      "7  teenage     0.691481     daddy     0.678516\n",
      "8    chick     0.688600       lad     0.675714\n",
      "9     babe     0.688469   brother     0.665973\n",
      "Twitter:\n",
      "        girl cosine_sim_a      boy cosine_sim_b\n",
      "0        boy     0.868402     girl     0.868402\n",
      "1      girls     0.855909      kid     0.835159\n",
      "2        she     0.853111     dude     0.823087\n",
      "3     friend     0.823827      guy     0.808023\n",
      "4        guy     0.822209     baby     0.803494\n",
      "5      chick     0.811896      lil     0.801286\n",
      "6       like     0.810003  brother     0.787051\n",
      "7     sister     0.809487    young     0.781294\n",
      "8  boyfriend     0.801070      old     0.778369\n",
      "9      bitch     0.799519    nigga     0.777073\n"
     ]
    }
   ],
   "source": [
    "compare_models_similarity_pairs(\"girl\", \"boy\")"
   ]
  },
  {
   "cell_type": "code",
   "execution_count": 126,
   "id": "remarkable-executive",
   "metadata": {},
   "outputs": [
    {
     "name": "stdout",
     "output_type": "stream",
     "text": [
      "Wikipedia:\n",
      "        woman cosine_sim\n",
      "0   physician   0.609857\n",
      "1       nurse   0.605909\n",
      "2     doctors   0.591393\n",
      "3    pregnant   0.533370\n",
      "4     dentist   0.524034\n",
      "5     medical   0.511250\n",
      "6  pharmacist   0.504334\n",
      "7     surgeon   0.500094\n",
      "8      nurses   0.498949\n",
      "9  physicians   0.498566\n",
      "CommonCrawl:\n",
      "          woman cosine_sim\n",
      "0         nurse   0.692357\n",
      "1       doctors   0.667855\n",
      "2     physician   0.662202\n",
      "3      pregnant   0.650009\n",
      "4  gynecologist   0.626058\n",
      "5    pharmacist   0.620841\n",
      "6       midwife   0.609780\n",
      "7  pediatrician   0.598572\n",
      "8     pregnancy   0.592360\n",
      "9       medical   0.592073\n",
      "Twitter:\n",
      "         woman cosine_sim\n",
      "0      doctors   0.649473\n",
      "1       mother   0.609547\n",
      "2      dentist   0.588896\n",
      "3        birth   0.575608\n",
      "4  grandmother   0.566490\n",
      "5      midwife   0.566192\n",
      "6        nurse   0.558148\n",
      "7        child   0.551933\n",
      "8     daughter   0.545252\n",
      "9       father   0.541687\n"
     ]
    }
   ],
   "source": [
    "compare_models_analogy(\"man\", \"doctor\", \"woman\")"
   ]
  },
  {
   "cell_type": "code",
   "execution_count": 127,
   "id": "protective-municipality",
   "metadata": {},
   "outputs": [
    {
     "name": "stdout",
     "output_type": "stream",
     "text": [
      "Wikipedia:\n",
      "           woman cosine_sim\n",
      "0    programmers   0.497601\n",
      "1      freelance   0.417259\n",
      "2       educator   0.403169\n",
      "3  businesswoman   0.392910\n",
      "4       designer   0.392894\n",
      "5     translator   0.385843\n",
      "6     technician   0.375107\n",
      "7       computer   0.374914\n",
      "8       animator   0.367700\n",
      "9      homemaker   0.367547\n",
      "CommonCrawl:\n",
      "         woman cosine_sim\n",
      "0  programmers   0.597058\n",
      "1   Programmer   0.548828\n",
      "2        coder   0.527179\n",
      "3    programer   0.522622\n",
      "4  programming   0.498700\n",
      "5    freelance   0.490981\n",
      "6    developer   0.460561\n",
      "7   freelancer   0.459740\n",
      "8  interpreter   0.430854\n",
      "9   programing   0.430313\n",
      "Twitter:\n",
      "          woman cosine_sim\n",
      "0     developer   0.604343\n",
      "1  receptionist   0.595175\n",
      "2    researcher   0.594440\n",
      "3         coder   0.583802\n",
      "4      educator   0.583634\n",
      "5     freelance   0.578814\n",
      "6    consultant   0.570600\n",
      "7   storyteller   0.568916\n",
      "8     part-time   0.564922\n",
      "9      marketer   0.562189\n"
     ]
    }
   ],
   "source": [
    "compare_models_analogy(\"man\", \"programmer\", \"woman\")"
   ]
  },
  {
   "cell_type": "code",
   "execution_count": 128,
   "id": "collected-contest",
   "metadata": {},
   "outputs": [
    {
     "name": "stdout",
     "output_type": "stream",
     "text": [
      "Wikipedia:\n",
      "            woman cosine_sim\n",
      "0      researcher   0.616316\n",
      "1    psychologist   0.524620\n",
      "2       physicist   0.524047\n",
      "3       biologist   0.515686\n",
      "4       professor   0.511820\n",
      "5        educator   0.492124\n",
      "6      scientists   0.480764\n",
      "7  anthropologist   0.476463\n",
      "8     researchers   0.468801\n",
      "9      astronomer   0.466718\n",
      "CommonCrawl:\n",
      "            woman cosine_sim\n",
      "0      researcher   0.697782\n",
      "1       physicist   0.621963\n",
      "2       biologist   0.612554\n",
      "3      scientists   0.604445\n",
      "4      biochemist   0.556475\n",
      "5       professor   0.555033\n",
      "6    psychologist   0.546032\n",
      "7       Scientist   0.543639\n",
      "8  microbiologist   0.539246\n",
      "9    investigator   0.538429\n",
      "Twitter:\n",
      "          woman cosine_sim\n",
      "0    researcher   0.643586\n",
      "1    scientists   0.626727\n",
      "2     economist   0.616005\n",
      "3  psychologist   0.599787\n",
      "4      educator   0.591991\n",
      "5   researchers   0.591187\n",
      "6     librarian   0.576612\n",
      "7   independent   0.572741\n",
      "8        writer   0.547235\n",
      "9     immigrant   0.541588\n"
     ]
    }
   ],
   "source": [
    "compare_models_analogy(\"man\", \"scientist\", \"woman\")"
   ]
  },
  {
   "cell_type": "code",
   "execution_count": 129,
   "id": "noted-financing",
   "metadata": {},
   "outputs": [
    {
     "name": "stdout",
     "output_type": "stream",
     "text": [
      "Wikipedia:\n",
      "           woman cosine_sim\n",
      "0     technician   0.530631\n",
      "1       educator   0.507454\n",
      "2      engineers   0.492658\n",
      "3      scientist   0.432402\n",
      "4         worker   0.424830\n",
      "5  businesswoman   0.421502\n",
      "6      geologist   0.420816\n",
      "7    engineering   0.418344\n",
      "8          nurse   0.413342\n",
      "9        teacher   0.407598\n",
      "CommonCrawl:\n",
      "          woman cosine_sim\n",
      "0    technician   0.586676\n",
      "1   engineering   0.568204\n",
      "2     engineers   0.564161\n",
      "3      Engineer   0.538413\n",
      "4  technologist   0.529795\n",
      "5    consultant   0.511370\n",
      "6    supervisor   0.496169\n",
      "7     architect   0.492238\n",
      "8     assistant   0.479292\n",
      "9        worker   0.476458\n",
      "Twitter:\n",
      "            woman cosine_sim\n",
      "0      technician   0.697841\n",
      "1  representative   0.660121\n",
      "2      consultant   0.658263\n",
      "3     engineering   0.658157\n",
      "4      specialist   0.650057\n",
      "5       architect   0.647558\n",
      "6       assistant   0.640290\n",
      "7   administrator   0.634264\n",
      "8       associate   0.629090\n",
      "9       engineers   0.623325\n"
     ]
    }
   ],
   "source": [
    "compare_models_analogy(\"man\", \"engineer\", \"woman\")"
   ]
  },
  {
   "cell_type": "code",
   "execution_count": 130,
   "id": "biological-pulse",
   "metadata": {},
   "outputs": [
    {
     "name": "stdout",
     "output_type": "stream",
     "text": [
      "Wikipedia:\n",
      "           woman cosine_sim\n",
      "0  transatlantic   0.458872\n",
      "1       atlantic   0.395484\n",
      "2       pipeline   0.340756\n",
      "3       moldovan   0.336876\n",
      "4          women   0.334942\n",
      "5       dniester   0.333631\n",
      "6        lesbian   0.331898\n",
      "7        pacific   0.328665\n",
      "8       airlines   0.311786\n",
      "9           fats   0.310890\n",
      "CommonCrawl:\n",
      "           woman cosine_sim\n",
      "0          Trans   0.527703\n",
      "1    transgender   0.520977\n",
      "2         tranny   0.506585\n",
      "3    transsexual   0.494607\n",
      "4  transgendered   0.476909\n",
      "5        lesbian   0.472332\n",
      "6       lesbians   0.429427\n",
      "7            cis   0.420739\n",
      "8          women   0.419401\n",
      "9       bisexual   0.414312\n",
      "Twitter:\n",
      "         woman cosine_sim\n",
      "0   indonesian   0.568463\n",
      "1        asian   0.557148\n",
      "2     sooyoung   0.517228\n",
      "3        yoona   0.513703\n",
      "4      seohyun   0.510087\n",
      "5          kbs   0.508005\n",
      "6     japanese   0.497728\n",
      "7         snsd   0.492741\n",
      "8  cherrybelle   0.492300\n",
      "9      segment   0.487763\n"
     ]
    }
   ],
   "source": [
    "compare_models_analogy(\"man\", \"trans\", \"woman\")"
   ]
  },
  {
   "cell_type": "code",
   "execution_count": null,
   "id": "forced-tobacco",
   "metadata": {},
   "outputs": [],
   "source": [
    "compare_models_analogy(\"man\", \"trans\", \"woman\")"
   ]
  },
  {
   "cell_type": "code",
   "execution_count": 125,
   "id": "experimental-spiritual",
   "metadata": {},
   "outputs": [
    {
     "name": "stdout",
     "output_type": "stream",
     "text": [
      "Wikipedia:\n",
      "        woman cosine_sim\n",
      "0    stronger   0.540588\n",
      "1   strongest   0.496957\n",
      "2       women   0.456852\n",
      "3      robust   0.455113\n",
      "4     despite   0.453090\n",
      "5        weak   0.452220\n",
      "6         her   0.449586\n",
      "7  consistent   0.442298\n",
      "8      female   0.440086\n",
      "9     support   0.432728\n",
      "CommonCrawl:\n",
      "        woman cosine_sim\n",
      "0    stronger   0.593500\n",
      "1   strongest   0.535380\n",
      "2       women   0.523203\n",
      "3    strongly   0.522918\n",
      "4   extremely   0.504470\n",
      "5    strength   0.504092\n",
      "6  attractive   0.502718\n",
      "7    positive   0.502413\n",
      "8      robust   0.495524\n",
      "9        very   0.490195\n",
      "Twitter:\n",
      "         woman cosine_sim\n",
      "0     powerful   0.632457\n",
      "1       loving   0.607668\n",
      "2  independent   0.599768\n",
      "3        heart   0.596056\n",
      "4        truly   0.592127\n",
      "5        often   0.591227\n",
      "6    beautiful   0.589892\n",
      "7   passionate   0.585448\n",
      "8         very   0.582792\n",
      "9     strength   0.581564\n"
     ]
    }
   ],
   "source": [
    "compare_models_analogy(\"man\", \"strong\", \"woman\")"
   ]
  },
  {
   "cell_type": "code",
   "execution_count": 124,
   "id": "contained-health",
   "metadata": {},
   "outputs": [
    {
     "name": "stdout",
     "output_type": "stream",
     "text": [
      "Wikipedia:\n",
      "         man cosine_sim\n",
      "0   stronger   0.549757\n",
      "1    despite   0.532143\n",
      "2       weak   0.531488\n",
      "3       good   0.520228\n",
      "4   strength   0.517391\n",
      "5      solid   0.507273\n",
      "6     robust   0.497557\n",
      "7       well   0.489479\n",
      "8  strongest   0.488160\n",
      "9     enough   0.476605\n",
      "CommonCrawl:\n",
      "         man cosine_sim\n",
      "0   stronger   0.612946\n",
      "1       good   0.604684\n",
      "2   strength   0.593914\n",
      "3       weak   0.587595\n",
      "4      solid   0.566812\n",
      "5       well   0.558645\n",
      "6  strongest   0.553546\n",
      "7      tough   0.534405\n",
      "8        but   0.533306\n",
      "9      great   0.533095\n",
      "Twitter:\n",
      "    man cosine_sim\n",
      "0   bro   0.661264\n",
      "1    we   0.645014\n",
      "2    so   0.639920\n",
      "3  true   0.633815\n",
      "4  hard   0.629617\n",
      "5  keep   0.618759\n",
      "6  haha   0.615891\n",
      "7  well   0.612242\n",
      "8  good   0.608737\n",
      "9   too   0.608365\n"
     ]
    }
   ],
   "source": [
    "compare_models_analogy(\"woman\", \"strong\", \"man\")"
   ]
  },
  {
   "cell_type": "code",
   "execution_count": 116,
   "id": "olive-expense",
   "metadata": {},
   "outputs": [
    {
     "data": {
      "text/plain": [
       "[('stronger', 0.5497574806213379),\n",
       " ('despite', 0.5321428179740906),\n",
       " ('weak', 0.5314878225326538),\n",
       " ('good', 0.52022784948349),\n",
       " ('strength', 0.5173912048339844),\n",
       " ('solid', 0.5072730779647827),\n",
       " ('robust', 0.49755674600601196),\n",
       " ('well', 0.4894790053367615),\n",
       " ('strongest', 0.48816049098968506),\n",
       " ('enough', 0.47660502791404724)]"
      ]
     },
     "execution_count": 116,
     "metadata": {},
     "output_type": "execute_result"
    }
   ],
   "source": [
    " model_wiki.most_similar(negative=[\"woman\"], \n",
    "                                positive=[\"strong\", \"man\"])"
   ]
  },
  {
   "cell_type": "code",
   "execution_count": null,
   "id": "hybrid-karen",
   "metadata": {},
   "outputs": [],
   "source": []
  }
 ],
 "metadata": {
  "kernelspec": {
   "display_name": "Python 3",
   "language": "python",
   "name": "python3"
  },
  "language_info": {
   "codemirror_mode": {
    "name": "ipython",
    "version": 3
   },
   "file_extension": ".py",
   "mimetype": "text/x-python",
   "name": "python",
   "nbconvert_exporter": "python",
   "pygments_lexer": "ipython3",
   "version": "3.6.13"
  }
 },
 "nbformat": 4,
 "nbformat_minor": 5
}
